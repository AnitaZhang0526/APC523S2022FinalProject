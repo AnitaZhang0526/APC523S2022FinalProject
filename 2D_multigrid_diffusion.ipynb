{
  "cells": [
    {
      "cell_type": "code",
      "execution_count": 130,
      "metadata": {
        "id": "038bd57f"
      },
      "outputs": [],
      "source": [
        "import numpy as np\n",
        "import matplotlib\n",
        "from matplotlib  import pyplot as plt\n",
        "import matplotlib.animation as animation\n",
        "matplotlib.rcParams.update({'font.size': 22})"
      ],
      "id": "038bd57f"
    },
    {
      "cell_type": "code",
      "execution_count": 131,
      "metadata": {
        "id": "0972ced5"
      },
      "outputs": [],
      "source": [
        "class Grid:\n",
        "    def __init__(self,n):\n",
        "        self.n = n\n",
        "        self.h = 1/n\n",
        "        self.uold = np.zeros([n+2,n+2]) #add 1 for boundary on both ends\n",
        "        self.unew = np.zeros([n+2,n+2]) #add 1 for boundary on both ends\n",
        "        self.res = np.zeros([n+2,n+2]) #Residual matrix\n",
        "        self.err = np.zeros([n,n])  # error matrix\n",
        "        self.q = np.zeros([n,n])  # forcing\n",
        "        self.T = np.zeros([n+2,n+2])  # temperature"
      ],
      "id": "0972ced5"
    },
    {
      "cell_type": "code",
      "execution_count": 132,
      "metadata": {
        "id": "77d12622"
      },
      "outputs": [],
      "source": [
        "#relate temp to voids here\n",
        "def diffConst(mg,l,K, D,phi1, alpha):\n",
        "    g = mg[l-1]     # for last layer of MG??\n",
        "    n = 2**(l)      \n",
        "    Temp = np.zeros([n+2,n+2])*100+.2*t # our Temperature\n",
        "    alpha = 0.000001*Temp # coefficient of thermal expansion for our sample. Making assumption it is constant for simplicity\n",
        "    phi1 = phi1 - (alpha*phi1) # changing the void \n",
        "    if phi1[0,0] <=0: # ensures we don't have a \"negative\" void\n",
        "      phi1 = 0*alpha \n",
        "    D = np.ones([n+2, n+2])*K*alpha*phi1 # updates the diffusion \n",
        "    return D # the new diffusion term"
      ],
      "id": "77d12622"
    },
    {
      "cell_type": "code",
      "execution_count": 133,
      "metadata": {
        "id": "96e18840"
      },
      "outputs": [],
      "source": [
        "# user updates this function\n",
        "def updateForce(mg,lmax,t,origin):\n",
        "    # How fluid input from origin source changes throughout time (i.e. continuous flow, flows cuts off after certain time, etc)\n",
        "    g = mg[lmax-1]\n",
        "    n = 2**(lmax)\n",
        "    g.q = np.zeros([n,n])\n",
        "\n",
        "    #sets the 3 different starting conditions from where the fluid originates\n",
        "    if origin == \"edge\":\n",
        "      g.q[:,0] = 80*(t/2)**.5\n",
        "      if t > 80.0:\n",
        "        g.q[:,0] = 0.0\n",
        "    \n",
        "    elif origin == \"center point\":\n",
        "      g.q[30:34,30:34] = 80*(t/2)**.5\n",
        "      if t > 80.0:\n",
        "        g.q[30:34,30:34] = 0.0\n",
        "\n",
        "    elif origin == \"edge point\":\n",
        "      g.q[30:34,0:2] = 80*(t/2)**.5\n",
        "      if t > 80.0:\n",
        "        g.q[30:34,0:2] = 0.0"
      ],
      "id": "96e18840"
    },
    {
      "cell_type": "code",
      "execution_count": 134,
      "metadata": {
        "id": "8960c93c"
      },
      "outputs": [],
      "source": [
        "def boundary(uu):\n",
        "    #sets the 3 differend boundary conditions that could be explored. We focus on \"rigid\" in our writeup. \n",
        "    if(bc=='rigid'):\n",
        "        uu[0:3,1:-1] = np.zeros(np.shape(uu[0:3,1:-1]))\n",
        "        uu[-3:-1,1:-1] = np.zeros(np.shape(uu[-3:-1,1:-1]))\n",
        "\n",
        "    if(bc=='dirichlet'):\n",
        "        uu[0,1:-1] = -uu[1,1:-1]\n",
        "        uu[-1,1:-1] = -uu[-2,1:-1]\n",
        "        uu[1:-1,0] = -uu[1:-1,1] \n",
        "        uu[1:-1,-1] = -uu[1:-1,-2]\n",
        "        uu[0,0] = -uu[1,1]\n",
        "        uu[-1,0] = -uu[-2,1]\n",
        "        uu[0,-1] = -uu[1,-2]\n",
        "        uu[-1,-1] = -uu[-2,-2]\n",
        "                \n",
        "    if(bc=='periodic'):\n",
        "        uu[0,1:-1] = uu[-2,1:-1]\n",
        "        uu[-1,1:-1] = uu[1,1:-1]\n",
        "        uu[1:-1,0] = uu[1:-1,-2]\n",
        "        uu[1:-1,-1] = uu[1:-1,1]\n",
        "        uu[0,0] = uu[-2,-2]\n",
        "        uu[-1,0] = uu[1,-2]\n",
        "        uu[0,-1] = uu[-2,1]\n",
        "        uu[-1,-1] = uu[1,1]"
      ],
      "id": "8960c93c"
    },
    {
      "cell_type": "code",
      "execution_count": 135,
      "metadata": {
        "id": "564ccceb"
      },
      "outputs": [],
      "source": [
        "def jacobi(mg,l,niter,dt,D): # added dt,K\n",
        "    \n",
        "    g = mg[l-1]\n",
        "    #initialize iteration counter\n",
        "    i = 0\n",
        "    \n",
        "    for i in range(niter):\n",
        "\n",
        "        g.unew[1:-1,1:-1] = g.uold[1:-1,1:-1] + dt*D[1:-1,1:-1]*(g.uold[2:,1:-1]+g.uold[:-2,1:-1]+g.uold[1:-1,2:]+\n",
        "                                                                 g.uold[1:-1,:-2]-4.0*g.uold[1:-1,1:-1])/(g.h**2)+g.q*dt  \n",
        "        g.err[:,:] = g.uold[1:-1,1:-1] - g.unew[1:-1,1:-1]\n",
        "        \n",
        "        #update our step\n",
        "        g.uold[1:-1,1:-1] = g.unew[1:-1,1:-1]\n",
        "        boundary(g.uold)\n",
        "        i += 1"
      ],
      "id": "564ccceb"
    },
    {
      "cell_type": "code",
      "execution_count": 136,
      "metadata": {
        "id": "55f4acd3"
      },
      "outputs": [],
      "source": [
        "def residual(mg,l):\n",
        "    \n",
        "    g = mg[l-1]\n",
        "    \n",
        "    g.res[1:-1,1:-1]= ((g.uold[2:,1:-1]+g.uold[:-2,1:-1]+g.uold[1:-1,2:]+g.uold[1:-1,:-2]-4.0*g.uold[1:-1,1:-1])/g.h**2 + g.q)\n",
        "    boundary(g.res)"
      ],
      "id": "55f4acd3"
    },
    {
      "cell_type": "code",
      "execution_count": 137,
      "metadata": {
        "id": "0f23b45e"
      },
      "outputs": [],
      "source": [
        "# need to figure out what's going on with the rhs equation\n",
        "def restriction(mg,l):\n",
        "    \n",
        "    fine=mg[l-1]       #last layer\n",
        "    coarse=mg[l-2]     #second to last layer\n",
        "    \n",
        "    coarse.res[1:-1,1:-1]=coarse.res[1:-1,1:-1]+1./64*fine.res[0:-3:2,3:  :2]\n",
        "    coarse.res[1:-1,1:-1]=coarse.res[1:-1,1:-1]+3./64*fine.res[1:-2:2,3:  :2]\n",
        "    coarse.res[1:-1,1:-1]=coarse.res[1:-1,1:-1]+3./64*fine.res[2:-1:2,3:  :2]\n",
        "    coarse.res[1:-1,1:-1]=coarse.res[1:-1,1:-1]+1./64*fine.res[3:  :2,3:  :2]\n",
        "    \n",
        "    coarse.res[1:-1,1:-1]=coarse.res[1:-1,1:-1]+1./64*fine.res[0:-3:2,0:-3:2]\n",
        "    coarse.res[1:-1,1:-1]=coarse.res[1:-1,1:-1]+3./64*fine.res[1:-2:2,0:-3:2]\n",
        "    coarse.res[1:-1,1:-1]=coarse.res[1:-1,1:-1]+3./64*fine.res[2:-1:2,0:-3:2]\n",
        "    coarse.res[1:-1,1:-1]=coarse.res[1:-1,1:-1]+1./64*fine.res[3:  :2,0:-3:2]\n",
        "    \n",
        "    coarse.res[1:-1,1:-1]=coarse.res[1:-1,1:-1]+3./64*fine.res[0:-3:2,1:-2:2]\n",
        "    coarse.res[1:-1,1:-1]=coarse.res[1:-1,1:-1]+9./64*fine.res[1:-2:2,1:-2:2]\n",
        "    coarse.res[1:-1,1:-1]=coarse.res[1:-1,1:-1]+9./64*fine.res[2:-1:2,1:-2:2]\n",
        "    coarse.res[1:-1,1:-1]=coarse.res[1:-1,1:-1]+3./64*fine.res[3:  :2,1:-2:2]\n",
        "    \n",
        "    coarse.res[1:-1,1:-1]=coarse.res[1:-1,1:-1]+3./64*fine.res[0:-3:2,2:-1:2]\n",
        "    coarse.res[1:-1,1:-1]=coarse.res[1:-1,1:-1]+9./64*fine.res[1:-2:2,2:-1:2]\n",
        "    coarse.res[1:-1,1:-1]=coarse.res[1:-1,1:-1]+9./64*fine.res[2:-1:2,2:-1:2]\n",
        "    coarse.res[1:-1,1:-1]=coarse.res[1:-1,1:-1]+3./64*fine.res[3:  :2,2:-1:2]\n",
        "    \n",
        "    coarse.res[1:-1,1:-1]=coarse.res[1:-1,1:-1]+1./64*fine.res[0:-3:2,3:  :2]\n",
        "    coarse.res[1:-1,1:-1]=coarse.res[1:-1,1:-1]+3./64*fine.res[1:-2:2,3:  :2]\n",
        "    coarse.res[1:-1,1:-1]=coarse.res[1:-1,1:-1]+3./64*fine.res[2:-1:2,3:  :2]\n",
        "    coarse.res[1:-1,1:-1]=coarse.res[1:-1,1:-1]+1./64*fine.res[3:  :2,3:  :2]\n",
        "    \n",
        "    coarse.uold[:,:]=0"
      ],
      "id": "0f23b45e"
    },
    {
      "cell_type": "code",
      "execution_count": 138,
      "metadata": {
        "id": "00fc7ec0"
      },
      "outputs": [],
      "source": [
        "def prolongation(mg,l):\n",
        "    \n",
        "    fine=mg[l-1]\n",
        "    \n",
        "    coarse=mg[l-2]\n",
        "    \n",
        "    fine.err[:,:]=0\n",
        "    \n",
        "    fine.err[0:-1:2,0:-1:2]=fine.err[0:-1:2,0:-1:2]+1/16*coarse.uold[0:-2,0:-2]\n",
        "    fine.err[0:-1:2,0:-1:2]=fine.err[0:-1:2,0:-1:2]+3/16*coarse.uold[1:-1,0:-2]\n",
        "    fine.err[0:-1:2,0:-1:2]=fine.err[0:-1:2,0:-1:2]+3/16*coarse.uold[0:-2,1:-1]\n",
        "    fine.err[0:-1:2,0:-1:2]=fine.err[0:-1:2,0:-1:2]+9/16*coarse.uold[1:-1,1:-1]\n",
        "\n",
        "    fine.err[1:  :2,0:-1:2]=fine.err[1:  :2,0:-1:2]+3/16*coarse.uold[1:-1,0:-2]\n",
        "    fine.err[1:  :2,0:-1:2]=fine.err[1:  :2,0:-1:2]+1/16*coarse.uold[2:  ,0:-2]\n",
        "    fine.err[1:  :2,0:-1:2]=fine.err[1:  :2,0:-1:2]+9/16*coarse.uold[1:-1,1:-1]\n",
        "    fine.err[1:  :2,0:-1:2]=fine.err[1:  :2,0:-1:2]+3/16*coarse.uold[2:  ,1:-1]\n",
        "\n",
        "    fine.err[0:-1:2,1:  :2]=fine.err[0:-1:2,1:  :2]+3/16*coarse.uold[0:-2,1:-1]\n",
        "    fine.err[0:-1:2,1:  :2]=fine.err[0:-1:2,1:  :2]+9/16*coarse.uold[1:-1,1:-1]\n",
        "    fine.err[0:-1:2,1:  :2]=fine.err[0:-1:2,1:  :2]+1/16*coarse.uold[0:-2,2:  ]\n",
        "    fine.err[0:-1:2,1:  :2]=fine.err[0:-1:2,1:  :2]+3/16*coarse.uold[1:-1,2:  ]\n",
        "\n",
        "    fine.err[1:  :2,1:  :2]=fine.err[1:  :2,1:  :2]+9/16*coarse.uold[1:-1,1:-1]\n",
        "    fine.err[1:  :2,1:  :2]=fine.err[1:  :2,1:  :2]+3/16*coarse.uold[2:  ,1:-1]\n",
        "    fine.err[1:  :2,1:  :2]=fine.err[1:  :2,1:  :2]+3/16*coarse.uold[1:-1,2:  ]\n",
        "    fine.err[1:  :2,1:  :2]=fine.err[1:  :2,1:  :2]+1/16*coarse.uold[2:  ,2:  ]\n",
        "    \n",
        "    fine.uold[1:-1,1:-1]=fine.uold[1:-1,1:-1]+fine.err[:,:]\n",
        "    \n",
        "    boundary(fine.uold)"
      ],
      "id": "00fc7ec0"
    },
    {
      "cell_type": "code",
      "execution_count": 139,
      "metadata": {
        "id": "4709a274"
      },
      "outputs": [],
      "source": [
        "def vcycle(mg,l,dt,D, phi1, alpha):\n",
        "    if(l == 1): #our finest multigrid level\n",
        "        D=diffConst(mg,l,K,D,phi1,alpha)\n",
        "        jacobi(mg,l,10,dt,D)\n",
        "    else:\n",
        "        #for coarser multigrid levels\n",
        "        D=diffConst(mg,l,K,D,phi1,alpha)\n",
        "        jacobi(mg,l,3,dt,D)\n",
        "        residual(mg,l)\n",
        "        restriction(mg,l)\n",
        "        vcycle(mg,l-1,dt,D,phi1,alpha)\n",
        "        prolongation(mg,l)\n",
        "        jacobi(mg,l,3,dt,D)"
      ],
      "id": "4709a274"
    },
    {
      "cell_type": "code",
      "execution_count": 140,
      "metadata": {
        "id": "2cef4f67"
      },
      "outputs": [],
      "source": [
        "#runs the multigrid\n",
        "def multigrid(mg,l,dt,K, nSteps, origin, phi1, alpha):\n",
        "    \n",
        "    i = 0\n",
        "    norm = 1.0\n",
        "\n",
        "    while (i < (itermax-1) and norm > eps):\n",
        "        updateForce(mg,l,nSteps, origin)\n",
        "        vcycle(mg,l,dt,K,phi1,alpha)\n",
        "        norm = np.max(abs(mg[l-1].err))*n*n\n",
        "        i += 1"
      ],
      "id": "2cef4f67"
    },
    {
      "cell_type": "code",
      "execution_count": 141,
      "metadata": {
        "id": "9a98cf43"
      },
      "outputs": [],
      "source": [
        "lmax = 6 #the amount of levels our multigrid will use \n",
        "n = 2**lmax \n",
        "eps = 1e-15\n",
        "itermax = 201"
      ],
      "id": "9a98cf43"
    },
    {
      "cell_type": "code",
      "execution_count": 142,
      "metadata": {
        "id": "03a778ed"
      },
      "outputs": [],
      "source": [
        "mg=[]\n",
        "for l in range(1,lmax+1):\n",
        "    n=2**l\n",
        "    mg.append(Grid(n))"
      ],
      "id": "03a778ed"
    },
    {
      "cell_type": "code",
      "execution_count": 143,
      "metadata": {
        "colab": {
          "base_uri": "https://localhost:8080/",
          "height": 1000
        },
        "id": "dd8c0908",
        "outputId": "bdad6755-c281-4a16-8070-700981106ab3"
      },
      "outputs": [
        {
          "output_type": "stream",
          "name": "stdout",
          "text": [
            "t =  0.0\n",
            "t =  5.0\n",
            "t =  10.0\n",
            "t =  15.0\n",
            "t =  20.0\n",
            "t =  25.0\n",
            "t =  30.0\n",
            "t =  35.0\n",
            "t =  40.0\n",
            "t =  45.0\n",
            "t =  50.0\n",
            "t =  55.0\n",
            "t =  60.0\n",
            "t =  65.0\n",
            "t =  70.0\n",
            "t =  75.0\n",
            "t =  80.0\n",
            "t =  85.0\n",
            "t =  90.0\n",
            "t =  95.0\n",
            "t =  100.0\n",
            "t =  105.0\n",
            "t =  110.0\n",
            "t =  115.0\n",
            "t =  120.0\n"
          ]
        },
        {
          "output_type": "execute_result",
          "data": {
            "text/plain": [
              "<matplotlib.colorbar.Colorbar at 0x7f4b28717750>"
            ]
          },
          "metadata": {},
          "execution_count": 143
        },
        {
          "output_type": "display_data",
          "data": {
            "text/plain": [
              "<Figure size 800x800 with 2 Axes>"
            ],
            "image/png": "[encoded data removed]"
          },
          "metadata": {
            "needs_background": "light"
          }
        }
      ],
      "source": [
        "##INITIAL CONDITIONS\n",
        "\n",
        "#All global variables used in functions in this program are defined here\n",
        "#everthing that is lmax-1 is the finest grid\n",
        "bc='rigid' #different boundary condtions can be chosen (periodic, dirichlet, rigid/inpermeable)\n",
        "mg[lmax-1].q[:,:] = 0.0\n",
        "mg[lmax-1].T[:,:] = 1\n",
        "mg[lmax-1].uold[:,:] = 0\n",
        "\n",
        "origin = \"edge point\"     #origin source of fluid: \"edge\", \"center point\", \"edge point\"\n",
        "K = .05 #our \"K\" constant which accounts for different soil properties\n",
        "\n",
        "#time of interest\n",
        "nSteps = np.linspace(0,120,121)\n",
        "dt = nSteps[1]-nSteps[0] # time step\n",
        "\n",
        "#start figure for animation later\n",
        "fig, ax = plt.subplots(figsize = (8,8), dpi=100)\n",
        "plt.gca().invert_yaxis()\n",
        "\n",
        "#some global variables having to do with diffusion\n",
        "phi1 = .5 #our void volume fraction is initially .5. It goes down with time as the matrix expands\n",
        "alpha = .1 #initialize coefficent of thermal expansion (constant). \n",
        "t = 0 #our time (initial)\n",
        "D = np.ones([n+2, n+2]) #(initialization of diffusion coefficient)\n",
        "\n",
        "ims = []\n",
        "\n",
        "for i,t in enumerate(nSteps):\n",
        "  g = mg[lmax-1]\n",
        "\n",
        "  # calling multigrid for each time step\n",
        "  multigrid(mg,lmax,dt,K, t, origin, phi1, alpha)              \n",
        "\n",
        "  # only plot every 5 time units\n",
        "  if t%5 == 0:\n",
        "    print(\"t = \", t)\n",
        "    ax.set_title(\"Source: %s\"%origin, fontsize = 20)\n",
        "    s = ax.imshow(mg[lmax-1].uold[1:-1,1:-1],cmap='jet',animated=True, vmin = 0, vmax = 100000)\n",
        "    text = ax.annotate(\"t = %s\"%t, (10,60), fontsize = 10, color = \"white\")\n",
        "    ims.append([s,text])\n",
        "    plt.gca().invert_yaxis()\n",
        "\n",
        "fig.colorbar(s, ax =ax)"
      ],
      "id": "dd8c0908"
    },
    {
      "cell_type": "code",
      "execution_count": 144,
      "metadata": {
        "id": "6lX_zlm57kRs"
      },
      "outputs": [],
      "source": [
        "#makes and saves the animation movie file which visually shows the fluid spread.\n",
        "ani = animation.ArtistAnimation(fig, ims, interval=200, blit=True, repeat_delay=1000)\n",
        "ani.save(\"diffusion_%s.mp4\"%origin)"
      ],
      "id": "6lX_zlm57kRs"
    },
    {
      "cell_type": "code",
      "source": [
        ""
      ],
      "metadata": {
        "id": "CWik9NNN24wO"
      },
      "id": "CWik9NNN24wO",
      "execution_count": 144,
      "outputs": []
    }
  ],
  "metadata": {
    "colab": {
      "collapsed_sections": [],
      "name": "2D_multigrid_diffusion.ipynb",
      "provenance": []
    },
    "kernelspec": {
      "display_name": "Python 3",
      "name": "python3"
    },
    "language_info": {
      "name": "python"
    }
  },
  "nbformat": 4,
  "nbformat_minor": 5
}